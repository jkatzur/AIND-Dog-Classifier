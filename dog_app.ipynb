{
 "cells": [
  {
   "cell_type": "markdown",
   "metadata": {},
   "source": [
    "# Artificial Intelligence Nanodegree\n",
    "\n",
    "## Convolutional Neural Networks\n",
    "\n",
    "## Project: Write an Algorithm for a Dog Identification App \n",
    "\n",
    "---\n",
    "\n",
    "In this notebook, some template code has already been provided for you, and you will need to implement additional functionality to successfully complete this project. You will not need to modify the included code beyond what is requested. Sections that begin with **'(IMPLEMENTATION)'** in the header indicate that the following block of code will require additional functionality which you must provide. Instructions will be provided for each section, and the specifics of the implementation are marked in the code block with a 'TODO' statement. Please be sure to read the instructions carefully! \n",
    "\n",
    "> **Note**: Once you have completed all of the code implementations, you need to finalize your work by exporting the iPython Notebook as an HTML document. Before exporting the notebook to html, all of the code cells need to have been run so that reviewers can see the final implementation and output. You can then export the notebook by using the menu above and navigating to  \\n\",\n",
    "    \"**File -> Download as -> HTML (.html)**. Include the finished document along with this notebook as your submission.\n",
    "\n",
    "In addition to implementing code, there will be questions that you must answer which relate to the project and your implementation. Each section where you will answer a question is preceded by a **'Question X'** header. Carefully read each question and provide thorough answers in the following text boxes that begin with **'Answer:'**. Your project submission will be evaluated based on your answers to each of the questions and the implementation you provide.\n",
    "\n",
    ">**Note:** Code and Markdown cells can be executed using the **Shift + Enter** keyboard shortcut.  Markdown cells can be edited by double-clicking the cell to enter edit mode.\n",
    "\n",
    "The rubric contains _optional_ \"Stand Out Suggestions\" for enhancing the project beyond the minimum requirements. If you decide to pursue the \"Stand Out Suggestions\", you should include the code in this IPython notebook.\n",
    "\n",
    "\n",
    "\n",
    "---\n",
    "### Why We're Here \n",
    "\n",
    "In this notebook, you will make the first steps towards developing an algorithm that could be used as part of a mobile or web app.  At the end of this project, your code will accept any user-supplied image as input.  If a dog is detected in the image, it will provide an estimate of the dog's breed.  If a human is detected, it will provide an estimate of the dog breed that is most resembling.  The image below displays potential sample output of your finished project (... but we expect that each student's algorithm will behave differently!). \n",
    "\n",
    "![Sample Dog Output](images/sample_dog_output.png)\n",
    "\n",
    "In this real-world setting, you will need to piece together a series of models to perform different tasks; for instance, the algorithm that detects humans in an image will be different from the CNN that infers dog breed.  There are many points of possible failure, and no perfect algorithm exists.  Your imperfect solution will nonetheless create a fun user experience!\n",
    "\n",
    "### The Road Ahead\n",
    "\n",
    "We break the notebook into separate steps.  Feel free to use the links below to navigate the notebook.\n",
    "\n",
    "* [Step 0](#step0): Import Datasets\n",
    "* [Step 1](#step1): Detect Humans\n",
    "* [Step 2](#step2): Detect Dogs\n",
    "* [Step 3](#step3): Create a CNN to Classify Dog Breeds (from Scratch)\n",
    "* [Step 4](#step4): Use a CNN to Classify Dog Breeds (using Transfer Learning)\n",
    "* [Step 5](#step5): Create a CNN to Classify Dog Breeds (using Transfer Learning)\n",
    "* [Step 6](#step6): Write your Algorithm\n",
    "* [Step 7](#step7): Test Your Algorithm\n",
    "\n",
    "---\n",
    "<a id='step0'></a>\n",
    "## Step 0: Import Datasets\n",
    "\n",
    "### Import Dog Dataset\n",
    "\n",
    "In the code cell below, we import a dataset of dog images.  We populate a few variables through the use of the `load_files` function from the scikit-learn library:\n",
    "- `train_files`, `valid_files`, `test_files` - numpy arrays containing file paths to images\n",
    "- `train_targets`, `valid_targets`, `test_targets` - numpy arrays containing onehot-encoded classification labels \n",
    "- `dog_names` - list of string-valued dog breed names for translating labels"
   ]
  },
  {
   "cell_type": "code",
   "execution_count": 1,
   "metadata": {},
   "outputs": [
    {
     "name": "stderr",
     "output_type": "stream",
     "text": [
      "/home/ubuntu/anaconda3/lib/python3.6/site-packages/h5py/__init__.py:34: FutureWarning: Conversion of the second argument of issubdtype from `float` to `np.floating` is deprecated. In future, it will be treated as `np.float64 == np.dtype(float).type`.\n",
      "  from ._conv import register_converters as _register_converters\n",
      "Using TensorFlow backend.\n",
      "/home/ubuntu/anaconda3/lib/python3.6/site-packages/matplotlib/__init__.py:962: UserWarning: Duplicate key in file \"/home/ubuntu/.config/matplotlib/matplotlibrc\", line #2\n",
      "  (fname, cnt))\n",
      "/home/ubuntu/anaconda3/lib/python3.6/site-packages/matplotlib/__init__.py:962: UserWarning: Duplicate key in file \"/home/ubuntu/.config/matplotlib/matplotlibrc\", line #3\n",
      "  (fname, cnt))\n"
     ]
    },
    {
     "name": "stdout",
     "output_type": "stream",
     "text": [
      "There are 133 total dog categories.\n",
      "There are 8351 total dog images.\n",
      "\n",
      "There are 6680 training dog images.\n",
      "There are 835 validation dog images.\n",
      "There are 836 test dog images.\n"
     ]
    }
   ],
   "source": [
    "from sklearn.datasets import load_files       \n",
    "from keras.utils import np_utils\n",
    "import numpy as np\n",
    "from glob import glob\n",
    "\n",
    "# define function to load train, test, and validation datasets\n",
    "def load_dataset(path):\n",
    "    data = load_files(path)\n",
    "    dog_files = np.array(data['filenames'])\n",
    "    dog_targets = np_utils.to_categorical(np.array(data['target']), 133)\n",
    "    return dog_files, dog_targets\n",
    "\n",
    "# load train, test, and validation datasets\n",
    "train_files, train_targets = load_dataset('dogImages/train')\n",
    "valid_files, valid_targets = load_dataset('dogImages/valid')\n",
    "test_files, test_targets = load_dataset('dogImages/test')\n",
    "\n",
    "# load list of dog names - breaking this down, item[20:-1] takes the characters from index 20 to the end,\n",
    "# except the last character '/'. E.g dogImages/train/###.[NAME HERE]/\n",
    "# glob looks through a folder and creates an array with all of the files as items there\n",
    "dog_names = [item[20:-1] for item in sorted(glob(\"dogImages/train/*/\"))]\n",
    "\n",
    "# print statistics about the dataset\n",
    "print('There are %d total dog categories.' % len(dog_names))\n",
    "print('There are %s total dog images.\\n' % len(np.hstack([train_files, valid_files, test_files])))\n",
    "print('There are %d training dog images.' % len(train_files))\n",
    "print('There are %d validation dog images.' % len(valid_files))\n",
    "print('There are %d test dog images.'% len(test_files))"
   ]
  },
  {
   "cell_type": "markdown",
   "metadata": {},
   "source": [
    "### Import Human Dataset\n",
    "\n",
    "In the code cell below, we import a dataset of human images, where the file paths are stored in the numpy array `human_files`."
   ]
  },
  {
   "cell_type": "code",
   "execution_count": 2,
   "metadata": {},
   "outputs": [
    {
     "name": "stdout",
     "output_type": "stream",
     "text": [
      "There are 13233 total human images.\n"
     ]
    }
   ],
   "source": [
    "import random\n",
    "random.seed(8675309)\n",
    "\n",
    "# load filenames in shuffled human dataset\n",
    "human_files = np.array(glob(\"lfw/*/*\"))\n",
    "random.shuffle(human_files)\n",
    "\n",
    "# print statistics about the dataset\n",
    "print('There are %d total human images.' % len(human_files))"
   ]
  },
  {
   "cell_type": "markdown",
   "metadata": {},
   "source": [
    "---\n",
    "<a id='step1'></a>\n",
    "## Step 1: Detect Humans\n",
    "\n",
    "We use OpenCV's implementation of [Haar feature-based cascade classifiers](http://docs.opencv.org/trunk/d7/d8b/tutorial_py_face_detection.html) to detect human faces in images.  OpenCV provides many pre-trained face detectors, stored as XML files on [github](https://github.com/opencv/opencv/tree/master/data/haarcascades).  We have downloaded one of these detectors and stored it in the `haarcascades` directory.\n",
    "\n",
    "In the next code cell, we demonstrate how to use this detector to find human faces in a sample image."
   ]
  },
  {
   "cell_type": "code",
   "execution_count": 3,
   "metadata": {},
   "outputs": [
    {
     "name": "stdout",
     "output_type": "stream",
     "text": [
      "Number of faces detected: 1\n"
     ]
    },
    {
     "data": {
      "image/png": "[encoded data removed]",
      "text/plain": [
       "<matplotlib.figure.Figure at 0x7f6daf750080>"
      ]
     },
     "metadata": {},
     "output_type": "display_data"
    }
   ],
   "source": [
    "import cv2                \n",
    "import matplotlib.pyplot as plt\n",
    "import matplotlib.image as mpimg\n",
    "%matplotlib inline                               \n",
    "\n",
    "# extract pre-trained face detector\n",
    "face_cascade = cv2.CascadeClassifier('haarcascades/haarcascade_frontalface_alt.xml')\n",
    "\n",
    "# load color (BGR) image\n",
    "img = cv2.imread(human_files[3])\n",
    "# convert BGR image to grayscale\n",
    "gray = cv2.cvtColor(img, cv2.COLOR_BGR2GRAY)\n",
    "\n",
    "# find faces in image\n",
    "faces = face_cascade.detectMultiScale(gray)\n",
    "\n",
    "# print number of faces detected in the image\n",
    "print('Number of faces detected:', len(faces))\n",
    "\n",
    "# get bounding box for each detected face\n",
    "for (x,y,w,h) in faces:\n",
    "    # add bounding box to color image\n",
    "    cv2.rectangle(img,(x,y),(x+w,y+h),(255,0,0),2)\n",
    "    \n",
    "# convert BGR image to RGB for plotting\n",
    "cv_rgb = cv2.cvtColor(img, cv2.COLOR_BGR2RGB)\n",
    "\n",
    "# display the image, along with bounding box\n",
    "plt.imshow(cv_rgb)\n",
    "plt.show()"
   ]
  },
  {
   "cell_type": "markdown",
   "metadata": {},
   "source": [
    "Before using any of the face detectors, it is standard procedure to convert the images to grayscale.  The `detectMultiScale` function executes the classifier stored in `face_cascade` and takes the grayscale image as a parameter.  \n",
    "\n",
    "In the above code, `faces` is a numpy array of detected faces, where each row corresponds to a detected face.  Each detected face is a 1D array with four entries that specifies the bounding box of the detected face.  The first two entries in the array (extracted in the above code as `x` and `y`) specify the horizontal and vertical positions of the top left corner of the bounding box.  The last two entries in the array (extracted here as `w` and `h`) specify the width and height of the box.\n",
    "\n",
    "### Write a Human Face Detector\n",
    "\n",
    "We can use this procedure to write a function that returns `True` if a human face is detected in an image and `False` otherwise.  This function, aptly named `face_detector`, takes a string-valued file path to an image as input and appears in the code block below."
   ]
  },
  {
   "cell_type": "code",
   "execution_count": 4,
   "metadata": {
    "collapsed": true
   },
   "outputs": [],
   "source": [
    "# returns \"True\" if face is detected in image stored at img_path\n",
    "def face_detector(img_path):\n",
    "    img = cv2.imread(img_path)\n",
    "    gray = cv2.cvtColor(img, cv2.COLOR_BGR2GRAY)\n",
    "    faces = face_cascade.detectMultiScale(gray)\n",
    "    return len(faces) > 0"
   ]
  },
  {
   "cell_type": "markdown",
   "metadata": {},
   "source": [
    "### (IMPLEMENTATION) Assess the Human Face Detector\n",
    "\n",
    "__Question 1:__ Use the code cell below to test the performance of the `face_detector` function.  \n",
    "- What percentage of the first 100 images in `human_files` have a detected human face?  \n",
    "- What percentage of the first 100 images in `dog_files` have a detected human face? \n",
    "\n",
    "Ideally, we would like 100% of human images with a detected face and 0% of dog images with a detected face.  You will see that our algorithm falls short of this goal, but still gives acceptable performance.  We extract the file paths for the first 100 images from each of the datasets and store them in the numpy arrays `human_files_short` and `dog_files_short`.\n",
    "\n",
    "__Answer:__ "
   ]
  },
  {
   "cell_type": "code",
   "execution_count": 79,
   "metadata": {},
   "outputs": [
    {
     "name": "stdout",
     "output_type": "stream",
     "text": [
      "Number of human faces: 99 / 100, 99 %\n",
      "Number of dog faces: 12 / 100, 12 %\n"
     ]
    },
    {
     "data": {
      "text/plain": [
       "\"\\n# Quick test to see which person did not register as having a human face. \\n# I originally thought Goldie Hawn was considered not human because all of the hair would make her look like \\n# a dog - but apparently she isn't classified as that either (see below). Just not having a face!\\nnon_face = [file for file in human_files_short if face_detector(file) == False]\\nprint(non_face)\\nfor file in non_face:\\n    img=mpimg.imread(file)\\n    imgplot = plt.imshow(img)\\n    plt.show(imgplot)\\n    \\n# Quick test to see which dogs register as having a human face. \\nhuman_face = [file for file in dog_files_short if face_detector(file) == True]\\nprint(human_face)\\nfor file in human_face:\\n    img=mpimg.imread(file)\\n    imgplot = plt.imshow(img)\\n    plt.show(imgplot)\\n\""
      ]
     },
     "execution_count": 79,
     "metadata": {},
     "output_type": "execute_result"
    }
   ],
   "source": [
    "human_files_short = human_files[:100]\n",
    "dog_files_short = train_files[:100]\n",
    "\n",
    "# Looking at the human and dog data to see face detection\n",
    "\n",
    "num_human_faces = sum(1 for file in human_files_short if face_detector(file) == True)\n",
    "num_dog_faces = sum(1 for file in dog_files_short if face_detector(file) == True)\n",
    "print (\"Number of human faces: %d / 100, %d %%\" % (num_human_faces, num_human_faces))\n",
    "print (\"Number of dog faces: %d / 100, %d %%\" % (num_dog_faces, num_dog_faces))\n",
    "\n",
    "\"\"\"\n",
    "# Quick test to see which person did not register as having a human face. \n",
    "# I originally thought Goldie Hawn was considered not human because all of the hair would make her look like \n",
    "# a dog - but apparently she isn't classified as that either (see below). Just not having a face!\n",
    "non_face = [file for file in human_files_short if face_detector(file) == False]\n",
    "print(non_face)\n",
    "for file in non_face:\n",
    "    img=mpimg.imread(file)\n",
    "    imgplot = plt.imshow(img)\n",
    "    plt.show(imgplot)\n",
    "    \n",
    "# Quick test to see which dogs register as having a human face. \n",
    "human_face = [file for file in dog_files_short if face_detector(file) == True]\n",
    "print(human_face)\n",
    "for file in human_face:\n",
    "    img=mpimg.imread(file)\n",
    "    imgplot = plt.imshow(img)\n",
    "    plt.show(imgplot)\n",
    "\"\"\""
   ]
  },
  {
   "cell_type": "markdown",
   "metadata": {},
   "source": [
    "__Question 2:__ This algorithmic choice necessitates that we communicate to the user that we accept human images only when they provide a clear view of a face (otherwise, we risk having unneccessarily frustrated users!). In your opinion, is this a reasonable expectation to pose on the user? If not, can you think of a way to detect humans in images that does not necessitate an image with a clearly presented face?\n",
    "\n",
    "__Answer:__\n",
    "\n",
    "We suggest the face detector from OpenCV as a potential way to detect human images in your algorithm, but you are free to explore other approaches, especially approaches that make use of deep learning :).  Please use the code cell below to design and test your own face detection algorithm.  If you decide to pursue this _optional_ task, report performance on each of the datasets."
   ]
  },
  {
   "cell_type": "code",
   "execution_count": 80,
   "metadata": {
    "collapsed": true
   },
   "outputs": [],
   "source": [
    "## Haar classification using the face_detector method from OpenCV seems to do a very good job of detecting human\n",
    "## images. It has only 1 false negative out of 100 images. In that image Goldie Hawn has a lot of long blond hair\n",
    "## that obscure the boundaries of her face, which would make any method perform worse.\n",
    "\n",
    "## When tested on dogs, there were only 12 false positives - which is impressive given that at least shape is similar\n",
    "## especially because humans can have hair / whiskers as well. \n",
    "\n",
    "## Given the nature of this algorithm, I believe false positives are better than false negatives. We can later use\n",
    "## the predicted score for human and dog to classify an image in to one or the other if there is a tie. Further, we can\n",
    "## see if the second classification (e.g of which dog breed) gets to a high confidence level. If it does that would\n",
    "## give us more confidence in the prediction. "
   ]
  },
  {
   "cell_type": "markdown",
   "metadata": {},
   "source": [
    "---\n",
    "<a id='step2'></a>\n",
    "## Step 2: Detect Dogs\n",
    "\n",
    "In this section, we use a pre-trained [ResNet-50](http://ethereon.github.io/netscope/#/gist/db945b393d40bfa26006) model to detect dogs in images.  Our first line of code downloads the ResNet-50 model, along with weights that have been trained on [ImageNet](http://www.image-net.org/), a very large, very popular dataset used for image classification and other vision tasks.  ImageNet contains over 10 million URLs, each linking to an image containing an object from one of [1000 categories](https://gist.github.com/yrevar/942d3a0ac09ec9e5eb3a).  Given an image, this pre-trained ResNet-50 model returns a prediction (derived from the available categories in ImageNet) for the object that is contained in the image."
   ]
  },
  {
   "cell_type": "code",
   "execution_count": 7,
   "metadata": {
    "collapsed": true
   },
   "outputs": [],
   "source": [
    "from keras.applications.resnet50 import ResNet50\n",
    "\n",
    "# The thinking in this strategy is we can use the ResNet-50 models beginning convolutional pieces to determine\n",
    "# all of the key features that define \"dog\" - fur, paws, snout, ears, etc... Then we'll replace the final layers\n",
    "# that can distinguish between the types of these features that define each breed\n",
    "\n",
    "# define ResNet50 model\n",
    "ResNet50_model = ResNet50(weights='imagenet')"
   ]
  },
  {
   "cell_type": "markdown",
   "metadata": {},
   "source": [
    "### Pre-process the Data\n",
    "\n",
    "When using TensorFlow as backend, Keras CNNs require a 4D array (which we'll also refer to as a 4D tensor) as input, with shape\n",
    "\n",
    "$$\n",
    "(\\text{nb_samples}, \\text{rows}, \\text{columns}, \\text{channels}),\n",
    "$$\n",
    "\n",
    "where `nb_samples` corresponds to the total number of images (or samples), and `rows`, `columns`, and `channels` correspond to the number of rows, columns, and channels for each image, respectively.  \n",
    "\n",
    "The `path_to_tensor` function below takes a string-valued file path to a color image as input and returns a 4D tensor suitable for supplying to a Keras CNN.  The function first loads the image and resizes it to a square image that is $224 \\times 224$ pixels.  Next, the image is converted to an array, which is then resized to a 4D tensor.  In this case, since we are working with color images, each image has three channels.  Likewise, since we are processing a single image (or sample), the returned tensor will always have shape\n",
    "\n",
    "$$\n",
    "(1, 224, 224, 3).\n",
    "$$\n",
    "\n",
    "The `paths_to_tensor` function takes a numpy array of string-valued image paths as input and returns a 4D tensor with shape \n",
    "\n",
    "$$\n",
    "(\\text{nb_samples}, 224, 224, 3).\n",
    "$$\n",
    "\n",
    "Here, `nb_samples` is the number of samples, or number of images, in the supplied array of image paths.  It is best to think of `nb_samples` as the number of 3D tensors (where each 3D tensor corresponds to a different image) in your dataset!"
   ]
  },
  {
   "cell_type": "code",
   "execution_count": 8,
   "metadata": {
    "collapsed": true
   },
   "outputs": [],
   "source": [
    "from keras.preprocessing import image                  \n",
    "from tqdm import tqdm\n",
    "\n",
    "def path_to_tensor(img_path):\n",
    "    # loads RGB image as PIL.Image.Image type\n",
    "    img = image.load_img(img_path, target_size=(224, 224))\n",
    "    # convert PIL.Image.Image type to 3D tensor with shape (224, 224, 3)\n",
    "    x = image.img_to_array(img)\n",
    "    # convert 3D tensor to 4D tensor with shape (1, 224, 224, 3) and return 4D tensor\n",
    "    return np.expand_dims(x, axis=0)\n",
    "\n",
    "def paths_to_tensor(img_paths):\n",
    "    list_of_tensors = [path_to_tensor(img_path) for img_path in tqdm(img_paths)]\n",
    "    return np.vstack(list_of_tensors)"
   ]
  },
  {
   "cell_type": "markdown",
   "metadata": {},
   "source": [
    "### Making Predictions with ResNet-50\n",
    "\n",
    "Getting the 4D tensor ready for ResNet-50, and for any other pre-trained model in Keras, requires some additional processing.  First, the RGB image is converted to BGR by reordering the channels.  All pre-trained models have the additional normalization step that the mean pixel (expressed in RGB as $[103.939, 116.779, 123.68]$ and calculated from all pixels in all images in ImageNet) must be subtracted from every pixel in each image.  This is implemented in the imported function `preprocess_input`.  If you're curious, you can check the code for `preprocess_input` [here](https://github.com/fchollet/keras/blob/master/keras/applications/imagenet_utils.py).\n",
    "\n",
    "Now that we have a way to format our image for supplying to ResNet-50, we are now ready to use the model to extract the predictions.  This is accomplished with the `predict` method, which returns an array whose $i$-th entry is the model's predicted probability that the image belongs to the $i$-th ImageNet category.  This is implemented in the `ResNet50_predict_labels` function below.\n",
    "\n",
    "By taking the argmax of the predicted probability vector, we obtain an integer corresponding to the model's predicted object class, which we can identify with an object category through the use of this [dictionary](https://gist.github.com/yrevar/942d3a0ac09ec9e5eb3a). "
   ]
  },
  {
   "cell_type": "code",
   "execution_count": 9,
   "metadata": {
    "collapsed": true
   },
   "outputs": [],
   "source": [
    "from keras.applications.resnet50 import preprocess_input, decode_predictions\n",
    "\n",
    "def ResNet50_predict_labels(img_path):\n",
    "    # returns prediction vector for image located at img_path\n",
    "    img = preprocess_input(path_to_tensor(img_path))\n",
    "    return np.argmax(ResNet50_model.predict(img))"
   ]
  },
  {
   "cell_type": "markdown",
   "metadata": {},
   "source": [
    "### Write a Dog Detector\n",
    "\n",
    "While looking at the [dictionary](https://gist.github.com/yrevar/942d3a0ac09ec9e5eb3a), you will notice that the categories corresponding to dogs appear in an uninterrupted sequence and correspond to dictionary keys 151-268, inclusive, to include all categories from `'Chihuahua'` to `'Mexican hairless'`.  Thus, in order to check to see if an image is predicted to contain a dog by the pre-trained ResNet-50 model, we need only check if the `ResNet50_predict_labels` function above returns a value between 151 and 268 (inclusive).\n",
    "\n",
    "We use these ideas to complete the `dog_detector` function below, which returns `True` if a dog is detected in an image (and `False` if not)."
   ]
  },
  {
   "cell_type": "code",
   "execution_count": 10,
   "metadata": {
    "collapsed": true
   },
   "outputs": [],
   "source": [
    "### returns \"True\" if a dog is detected in the image stored at img_path\n",
    "def dog_detector(img_path):\n",
    "    prediction = ResNet50_predict_labels(img_path)\n",
    "    return ((prediction <= 268) & (prediction >= 151)) "
   ]
  },
  {
   "cell_type": "markdown",
   "metadata": {},
   "source": [
    "### (IMPLEMENTATION) Assess the Dog Detector\n",
    "\n",
    "__Question 3:__ Use the code cell below to test the performance of your `dog_detector` function.  \n",
    "- What percentage of the images in `human_files_short` have a detected dog?  \n",
    "- What percentage of the images in `dog_files_short` have a detected dog?\n",
    "\n",
    "__Answer:__ "
   ]
  },
  {
   "cell_type": "code",
   "execution_count": 81,
   "metadata": {},
   "outputs": [
    {
     "name": "stdout",
     "output_type": "stream",
     "text": [
      "Number of humans considered dogs: 3, 3 %\n",
      "Number of dogs considered dogs: 100, 100 %\n"
     ]
    },
    {
     "data": {
      "text/plain": [
       "\"\\n# We saw that 3 humans appeared as dogs. Let's see who they are!\\n# Turns out Queen Latifah, Mark Everson, and Margerry Bakley all came through as dogs. Queen Latifah's had bad lighting\\n# plus she's wearing earings that may have thrown it off. Next to Margerry's hair is something in the background\\n# with a similar color. For Mark, I guess he's just doglike?\\nhumans_dog = [file for file in human_files_short if dog_detector(file) == True]\\nprint(humans_dog)\\nfor file in humans_dog:\\n    img=mpimg.imread(file)\\n    imgplot = plt.imshow(img)\\n    plt.show(imgplot)\\n\\n\""
      ]
     },
     "execution_count": 81,
     "metadata": {},
     "output_type": "execute_result"
    }
   ],
   "source": [
    "### Test the performance of the dog_detector function\n",
    "### on the images in human_files_short and dog_files_short\n",
    "\n",
    "num_dogs_humans = sum(1 for file in human_files_short if dog_detector(file) == True)\n",
    "num_dogs_dogs = sum(1 for file in dog_files_short if dog_detector(file) == True)\n",
    "print (\"Number of humans considered dogs: %d, %d %%\" %(num_dogs_humans, num_dogs_humans))\n",
    "print (\"Number of dogs considered dogs: %d, %d %%\" %(num_dogs_dogs,num_dogs_dogs))\n",
    "\n",
    "\"\"\"\n",
    "# We saw that 3 humans appeared as dogs. Let's see who they are!\n",
    "# Turns out Queen Latifah, Mark Everson, and Margerry Bakley all came through as dogs. Queen Latifah's had bad lighting\n",
    "# plus she's wearing earings that may have thrown it off. Next to Margerry's hair is something in the background\n",
    "# with a similar color. For Mark, I guess he's just doglike?\n",
    "humans_dog = [file for file in human_files_short if dog_detector(file) == True]\n",
    "print(humans_dog)\n",
    "for file in humans_dog:\n",
    "    img=mpimg.imread(file)\n",
    "    imgplot = plt.imshow(img)\n",
    "    plt.show(imgplot)\n",
    "\n",
    "\"\"\""
   ]
  },
  {
   "cell_type": "markdown",
   "metadata": {},
   "source": [
    "---\n",
    "<a id='step3'></a>\n",
    "## Step 3: Create a CNN to Classify Dog Breeds (from Scratch)\n",
    "\n",
    "Now that we have functions for detecting humans and dogs in images, we need a way to predict breed from images.  In this step, you will create a CNN that classifies dog breeds.  You must create your CNN _from scratch_ (so, you can't use transfer learning _yet_!), and you must attain a test accuracy of at least 1%.  In Step 5 of this notebook, you will have the opportunity to use transfer learning to create a CNN that attains greatly improved accuracy.\n",
    "\n",
    "Be careful with adding too many trainable layers!  More parameters means longer training, which means you are more likely to need a GPU to accelerate the training process.  Thankfully, Keras provides a handy estimate of the time that each epoch is likely to take; you can extrapolate this estimate to figure out how long it will take for your algorithm to train. \n",
    "\n",
    "We mention that the task of assigning breed to dogs from images is considered exceptionally challenging.  To see why, consider that *even a human* would have great difficulty in distinguishing between a Brittany and a Welsh Springer Spaniel.  \n",
    "\n",
    "Brittany | Welsh Springer Spaniel\n",
    "- | - \n",
    "<img src=\"images/Brittany_02625.jpg\" width=\"100\"> | <img src=\"images/Welsh_springer_spaniel_08203.jpg\" width=\"200\">\n",
    "\n",
    "It is not difficult to find other dog breed pairs with minimal inter-class variation (for instance, Curly-Coated Retrievers and American Water Spaniels).  \n",
    "\n",
    "Curly-Coated Retriever | American Water Spaniel\n",
    "- | -\n",
    "<img src=\"images/Curly-coated_retriever_03896.jpg\" width=\"200\"> | <img src=\"images/American_water_spaniel_00648.jpg\" width=\"200\">\n",
    "\n",
    "\n",
    "Likewise, recall that labradors come in yellow, chocolate, and black.  Your vision-based algorithm will have to conquer this high intra-class variation to determine how to classify all of these different shades as the same breed.  \n",
    "\n",
    "Yellow Labrador | Chocolate Labrador | Black Labrador\n",
    "- | -\n",
    "<img src=\"images/Labrador_retriever_06457.jpg\" width=\"150\"> | <img src=\"images/Labrador_retriever_06455.jpg\" width=\"240\"> | <img src=\"images/Labrador_retriever_06449.jpg\" width=\"220\">\n",
    "\n",
    "We also mention that random chance presents an exceptionally low bar: setting aside the fact that the classes are slightly imabalanced, a random guess will provide a correct answer roughly 1 in 133 times, which corresponds to an accuracy of less than 1%.  \n",
    "\n",
    "Remember that the practice is far ahead of the theory in deep learning.  Experiment with many different architectures, and trust your intuition.  And, of course, have fun! \n",
    "\n",
    "### Pre-process the Data\n",
    "\n",
    "We rescale the images by dividing every pixel in every image by 255."
   ]
  },
  {
   "cell_type": "code",
   "execution_count": 14,
   "metadata": {},
   "outputs": [
    {
     "name": "stderr",
     "output_type": "stream",
     "text": [
      "100%|██████████| 6680/6680 [00:59<00:00, 111.61it/s]\n",
      "100%|██████████| 835/835 [00:06<00:00, 123.69it/s]\n",
      "100%|██████████| 836/836 [00:06<00:00, 124.12it/s]\n"
     ]
    }
   ],
   "source": [
    "from PIL import ImageFile                            \n",
    "ImageFile.LOAD_TRUNCATED_IMAGES = True                 \n",
    "\n",
    "# pre-process the data for Keras\n",
    "train_tensors = paths_to_tensor(train_files).astype('float32')/255\n",
    "valid_tensors = paths_to_tensor(valid_files).astype('float32')/255\n",
    "test_tensors = paths_to_tensor(test_files).astype('float32')/255"
   ]
  },
  {
   "cell_type": "markdown",
   "metadata": {},
   "source": [
    "### (IMPLEMENTATION) Model Architecture\n",
    "\n",
    "Create a CNN to classify dog breed.  At the end of your code cell block, summarize the layers of your model by executing the line:\n",
    "    \n",
    "        model.summary()\n",
    "\n",
    "We have imported some Python modules to get you started, but feel free to import as many modules as you need.  If you end up getting stuck, here's a hint that specifies a model that trains relatively fast on CPU and attains >1% test accuracy in 5 epochs:\n",
    "\n",
    "![Sample CNN](images/sample_cnn.png)\n",
    "           \n",
    "__Question 4:__ Outline the steps you took to get to your final CNN architecture and your reasoning at each step.  If you chose to use the hinted architecture above, describe why you think that CNN architecture should work well for the image classification task.\n",
    "\n",
    "__Answer:__ "
   ]
  },
  {
   "cell_type": "code",
   "execution_count": 22,
   "metadata": {},
   "outputs": [
    {
     "name": "stdout",
     "output_type": "stream",
     "text": [
      "_________________________________________________________________\n",
      "Layer (type)                 Output Shape              Param #   \n",
      "=================================================================\n",
      "conv2d_14 (Conv2D)           (None, 224, 224, 16)      208       \n",
      "_________________________________________________________________\n",
      "max_pooling2d_12 (MaxPooling (None, 112, 112, 16)      0         \n",
      "_________________________________________________________________\n",
      "conv2d_15 (Conv2D)           (None, 112, 112, 32)      2080      \n",
      "_________________________________________________________________\n",
      "max_pooling2d_13 (MaxPooling (None, 56, 56, 32)        0         \n",
      "_________________________________________________________________\n",
      "conv2d_16 (Conv2D)           (None, 56, 56, 64)        8256      \n",
      "_________________________________________________________________\n",
      "max_pooling2d_14 (MaxPooling (None, 28, 28, 64)        0         \n",
      "_________________________________________________________________\n",
      "conv2d_17 (Conv2D)           (None, 28, 28, 128)       32896     \n",
      "_________________________________________________________________\n",
      "global_average_pooling2d_4 ( (None, 128)               0         \n",
      "_________________________________________________________________\n",
      "dropout_10 (Dropout)         (None, 128)               0         \n",
      "_________________________________________________________________\n",
      "dense_10 (Dense)             (None, 100)               12900     \n",
      "_________________________________________________________________\n",
      "dropout_11 (Dropout)         (None, 100)               0         \n",
      "_________________________________________________________________\n",
      "dense_11 (Dense)             (None, 100)               10100     \n",
      "_________________________________________________________________\n",
      "dropout_12 (Dropout)         (None, 100)               0         \n",
      "_________________________________________________________________\n",
      "dense_12 (Dense)             (None, 133)               13433     \n",
      "=================================================================\n",
      "Total params: 79,873\n",
      "Trainable params: 79,873\n",
      "Non-trainable params: 0\n",
      "_________________________________________________________________\n"
     ]
    }
   ],
   "source": [
    "from keras.layers import Conv2D, MaxPooling2D, GlobalAveragePooling2D\n",
    "from keras.layers import Dropout, Flatten, Dense\n",
    "from keras.models import Sequential\n",
    "\n",
    "## I picked this model structure based on the best practices described in the course. I started with alternating\n",
    "## convolutional and max pooling layers. The convolutional layers got progressively deeper, so the model learned\n",
    "## about more features. The max pooling layers helped reduced the dimensionality so the focus moved from specific\n",
    "## information, like which pixel is next to which other pixel, towards more broad information like does that image\n",
    "## have a snout. \n",
    "\n",
    "## After the convoluational layers, I then flatten to that the data will eventually be able to Dense layers with\n",
    "## a softmax layer to make a guess at which of the 133 dog breeds it is. I used 3 fully connected dense layers as\n",
    "## that is a common best practice. In between the convolutional layers and the dense layers I have a \"Gap\" layer\n",
    "## of a GlobalAveragePooling layer - which dramatically reduces the dimensionality prior to the dense layers. \n",
    "## without this the model would take an incredibly long time to run. \n",
    "model = Sequential()\n",
    "model.add(Conv2D(filters=16, kernel_size=2, padding=\"same\", activation=\"relu\", input_shape=(224,224,3)))\n",
    "model.add(MaxPooling2D(pool_size=2))\n",
    "model.add(Conv2D(filters=32, kernel_size=2, padding=\"same\", activation=\"relu\"))\n",
    "model.add(MaxPooling2D(pool_size=2))\n",
    "model.add(Conv2D(filters=64, kernel_size=2, padding=\"same\", activation=\"relu\"))\n",
    "model.add(MaxPooling2D(pool_size=2))\n",
    "model.add(Conv2D(filters=128, kernel_size=2, padding=\"same\", activation=\"relu\"))\n",
    "model.add(GlobalAveragePooling2D())\n",
    "model.add(Dropout(0.2))\n",
    "model.add(Dense(100, activation=\"relu\"))\n",
    "model.add(Dropout(0.2))\n",
    "model.add(Dense(100, activation=\"relu\"))\n",
    "model.add(Dropout(0.2))\n",
    "model.add(Dense(133, activation=\"softmax\"))\n",
    "model.summary()"
   ]
  },
  {
   "cell_type": "markdown",
   "metadata": {},
   "source": [
    "### Compile the Model"
   ]
  },
  {
   "cell_type": "code",
   "execution_count": 23,
   "metadata": {
    "collapsed": true
   },
   "outputs": [],
   "source": [
    "# I use adam instead of rmsprop for speed and performance\n",
    "model.compile(optimizer='adam', loss='categorical_crossentropy', metrics=['accuracy'])"
   ]
  },
  {
   "cell_type": "markdown",
   "metadata": {},
   "source": [
    "### (IMPLEMENTATION) Train the Model\n",
    "\n",
    "Train your model in the code cell below.  Use model checkpointing to save the model that attains the best validation loss.\n",
    "\n",
    "You are welcome to [augment the training data](https://blog.keras.io/building-powerful-image-classification-models-using-very-little-data.html), but this is not a requirement. "
   ]
  },
  {
   "cell_type": "code",
   "execution_count": 24,
   "metadata": {},
   "outputs": [
    {
     "name": "stdout",
     "output_type": "stream",
     "text": [
      "Epoch 1/10\n",
      " - 73s - loss: 4.8854 - acc: 0.0071 - val_loss: 4.8742 - val_acc: 0.0108\n",
      "\n",
      "Epoch 00001: val_loss improved from inf to 4.87418, saving model to saved_models/weights.best.from_scratch.hdf5\n",
      "Epoch 2/10\n",
      " - 72s - loss: 4.8740 - acc: 0.0086 - val_loss: 4.8705 - val_acc: 0.0108\n",
      "\n",
      "Epoch 00002: val_loss improved from 4.87418 to 4.87047, saving model to saved_models/weights.best.from_scratch.hdf5\n",
      "Epoch 3/10\n",
      " - 73s - loss: 4.8705 - acc: 0.0091 - val_loss: 4.8701 - val_acc: 0.0108\n",
      "\n",
      "Epoch 00003: val_loss improved from 4.87047 to 4.87009, saving model to saved_models/weights.best.from_scratch.hdf5\n",
      "Epoch 4/10\n",
      " - 71s - loss: 4.8689 - acc: 0.0119 - val_loss: 4.8681 - val_acc: 0.0108\n",
      "\n",
      "Epoch 00004: val_loss improved from 4.87009 to 4.86812, saving model to saved_models/weights.best.from_scratch.hdf5\n",
      "Epoch 5/10\n",
      " - 72s - loss: 4.8689 - acc: 0.0098 - val_loss: 4.8685 - val_acc: 0.0108\n",
      "\n",
      "Epoch 00005: val_loss did not improve\n",
      "Epoch 6/10\n",
      " - 72s - loss: 4.8663 - acc: 0.0095 - val_loss: 4.8678 - val_acc: 0.0108\n",
      "\n",
      "Epoch 00006: val_loss improved from 4.86812 to 4.86785, saving model to saved_models/weights.best.from_scratch.hdf5\n",
      "Epoch 7/10\n",
      " - 71s - loss: 4.8664 - acc: 0.0102 - val_loss: 4.8665 - val_acc: 0.0108\n",
      "\n",
      "Epoch 00007: val_loss improved from 4.86785 to 4.86654, saving model to saved_models/weights.best.from_scratch.hdf5\n",
      "Epoch 8/10\n",
      " - 72s - loss: 4.8649 - acc: 0.0122 - val_loss: 4.8677 - val_acc: 0.0108\n",
      "\n",
      "Epoch 00008: val_loss did not improve\n",
      "Epoch 9/10\n",
      " - 71s - loss: 4.8648 - acc: 0.0107 - val_loss: 4.8649 - val_acc: 0.0132\n",
      "\n",
      "Epoch 00009: val_loss improved from 4.86654 to 4.86487, saving model to saved_models/weights.best.from_scratch.hdf5\n",
      "Epoch 10/10\n",
      " - 72s - loss: 4.8591 - acc: 0.0140 - val_loss: 4.8605 - val_acc: 0.0132\n",
      "\n",
      "Epoch 00010: val_loss improved from 4.86487 to 4.86046, saving model to saved_models/weights.best.from_scratch.hdf5\n"
     ]
    },
    {
     "data": {
      "text/plain": [
       "<keras.callbacks.History at 0x7f6d496cb518>"
      ]
     },
     "execution_count": 24,
     "metadata": {},
     "output_type": "execute_result"
    }
   ],
   "source": [
    "from keras.callbacks import ModelCheckpoint  \n",
    "from keras.preprocessing.image import ImageDataGenerator\n",
    "\n",
    "# create and configure augmented image generator\n",
    "# randomly shift images horizontally (10% of total width)\n",
    "# randomly shift images vertically (10% of total height)\n",
    "# randomly flip images horizontally\n",
    "datagen_train = ImageDataGenerator(width_shift_range=0.1, height_shift_range=0.1,horizontal_flip=True)\n",
    "\n",
    "# fit augmented image generator on data\n",
    "datagen_train.fit(train_tensors)\n",
    "\n",
    "batch_size = 32\n",
    "epochs = 10\n",
    "\n",
    "### Do NOT modify the code below this line.\n",
    "\n",
    "checkpointer = ModelCheckpoint(filepath='saved_models/weights.best.from_scratch.hdf5', \n",
    "                               verbose=1, save_best_only=True)\n",
    "\n",
    "model.fit_generator(datagen_train.flow(train_tensors, train_targets, batch_size=batch_size),\n",
    "                    steps_per_epoch=train_tensors.shape[0] // batch_size,\n",
    "                    epochs=epochs, verbose=2, callbacks=[checkpointer],\n",
    "                    validation_data=(valid_tensors, valid_targets),\n",
    "                    validation_steps=train_tensors.shape[0] // batch_size)"
   ]
  },
  {
   "cell_type": "markdown",
   "metadata": {},
   "source": [
    "### Load the Model with the Best Validation Loss"
   ]
  },
  {
   "cell_type": "code",
   "execution_count": 26,
   "metadata": {
    "collapsed": true
   },
   "outputs": [],
   "source": [
    "model.load_weights('saved_models/weights.best.from_scratch.hdf5')"
   ]
  },
  {
   "cell_type": "markdown",
   "metadata": {},
   "source": [
    "### Test the Model\n",
    "\n",
    "Try out your model on the test dataset of dog images.  Ensure that your test accuracy is greater than 1%."
   ]
  },
  {
   "cell_type": "code",
   "execution_count": 27,
   "metadata": {},
   "outputs": [
    {
     "name": "stdout",
     "output_type": "stream",
     "text": [
      "Test accuracy: 1.5550%\n"
     ]
    }
   ],
   "source": [
    "# get index of predicted dog breed for each image in test set\n",
    "dog_breed_predictions = [np.argmax(model.predict(np.expand_dims(tensor, axis=0))) for tensor in test_tensors]\n",
    "\n",
    "# report test accuracy\n",
    "test_accuracy = 100*np.sum(np.array(dog_breed_predictions)==np.argmax(test_targets, axis=1))/len(dog_breed_predictions)\n",
    "print('Test accuracy: %.4f%%' % test_accuracy)"
   ]
  },
  {
   "cell_type": "markdown",
   "metadata": {},
   "source": [
    "---\n",
    "<a id='step4'></a>\n",
    "## Step 4: Use a CNN to Classify Dog Breeds\n",
    "\n",
    "To reduce training time without sacrificing accuracy, we show you how to train a CNN using transfer learning.  In the following step, you will get a chance to use transfer learning to train your own CNN.\n",
    "\n",
    "### Obtain Bottleneck Features"
   ]
  },
  {
   "cell_type": "code",
   "execution_count": 28,
   "metadata": {
    "collapsed": true
   },
   "outputs": [],
   "source": [
    "bottleneck_features = np.load('bottleneck_features/DogVGG16Data.npz')\n",
    "train_VGG16 = bottleneck_features['train']\n",
    "valid_VGG16 = bottleneck_features['valid']\n",
    "test_VGG16 = bottleneck_features['test']"
   ]
  },
  {
   "cell_type": "markdown",
   "metadata": {},
   "source": [
    "### Model Architecture\n",
    "\n",
    "The model uses the the pre-trained VGG-16 model as a fixed feature extractor, where the last convolutional output of VGG-16 is fed as input to our model.  We only add a global average pooling layer and a fully connected layer, where the latter contains one node for each dog category and is equipped with a softmax."
   ]
  },
  {
   "cell_type": "code",
   "execution_count": 29,
   "metadata": {},
   "outputs": [
    {
     "name": "stdout",
     "output_type": "stream",
     "text": [
      "_________________________________________________________________\n",
      "Layer (type)                 Output Shape              Param #   \n",
      "=================================================================\n",
      "global_average_pooling2d_5 ( (None, 512)               0         \n",
      "_________________________________________________________________\n",
      "dense_13 (Dense)             (None, 133)               68229     \n",
      "=================================================================\n",
      "Total params: 68,229\n",
      "Trainable params: 68,229\n",
      "Non-trainable params: 0\n",
      "_________________________________________________________________\n"
     ]
    }
   ],
   "source": [
    "VGG16_model = Sequential()\n",
    "VGG16_model.add(GlobalAveragePooling2D(input_shape=train_VGG16.shape[1:]))\n",
    "VGG16_model.add(Dense(133, activation='softmax'))\n",
    "\n",
    "VGG16_model.summary()"
   ]
  },
  {
   "cell_type": "markdown",
   "metadata": {},
   "source": [
    "### Compile the Model"
   ]
  },
  {
   "cell_type": "code",
   "execution_count": 30,
   "metadata": {
    "collapsed": true
   },
   "outputs": [],
   "source": [
    "VGG16_model.compile(loss='categorical_crossentropy', optimizer='rmsprop', metrics=['accuracy'])"
   ]
  },
  {
   "cell_type": "markdown",
   "metadata": {},
   "source": [
    "### Train the Model"
   ]
  },
  {
   "cell_type": "code",
   "execution_count": 31,
   "metadata": {},
   "outputs": [
    {
     "name": "stdout",
     "output_type": "stream",
     "text": [
      "Train on 6680 samples, validate on 835 samples\n",
      "Epoch 1/20\n",
      "6680/6680 [==============================] - 2s 339us/step - loss: 11.6936 - acc: 0.1397 - val_loss: 10.0794 - val_acc: 0.2251\n",
      "\n",
      "Epoch 00001: val_loss improved from inf to 10.07944, saving model to saved_models/weights.best.VGG16.hdf5\n",
      "Epoch 2/20\n",
      "6680/6680 [==============================] - 1s 216us/step - loss: 9.1349 - acc: 0.3228 - val_loss: 9.2176 - val_acc: 0.3186\n",
      "\n",
      "Epoch 00002: val_loss improved from 10.07944 to 9.21760, saving model to saved_models/weights.best.VGG16.hdf5\n",
      "Epoch 3/20\n",
      "6680/6680 [==============================] - 1s 211us/step - loss: 8.3986 - acc: 0.3969 - val_loss: 8.7306 - val_acc: 0.3617\n",
      "\n",
      "Epoch 00003: val_loss improved from 9.21760 to 8.73060, saving model to saved_models/weights.best.VGG16.hdf5\n",
      "Epoch 4/20\n",
      "6680/6680 [==============================] - 1s 203us/step - loss: 8.0410 - acc: 0.4430 - val_loss: 8.5668 - val_acc: 0.3677\n",
      "\n",
      "Epoch 00004: val_loss improved from 8.73060 to 8.56678, saving model to saved_models/weights.best.VGG16.hdf5\n",
      "Epoch 5/20\n",
      "6680/6680 [==============================] - 1s 202us/step - loss: 7.8360 - acc: 0.4671 - val_loss: 8.3463 - val_acc: 0.3916\n",
      "\n",
      "Epoch 00005: val_loss improved from 8.56678 to 8.34632, saving model to saved_models/weights.best.VGG16.hdf5\n",
      "Epoch 6/20\n",
      "6680/6680 [==============================] - 1s 211us/step - loss: 7.6181 - acc: 0.4901 - val_loss: 8.3509 - val_acc: 0.3976\n",
      "\n",
      "Epoch 00006: val_loss did not improve\n",
      "Epoch 7/20\n",
      "6680/6680 [==============================] - 1s 212us/step - loss: 7.3710 - acc: 0.5066 - val_loss: 8.1032 - val_acc: 0.4204\n",
      "\n",
      "Epoch 00007: val_loss improved from 8.34632 to 8.10321, saving model to saved_models/weights.best.VGG16.hdf5\n",
      "Epoch 8/20\n",
      "6680/6680 [==============================] - 1s 208us/step - loss: 7.1870 - acc: 0.5274 - val_loss: 8.0222 - val_acc: 0.4263\n",
      "\n",
      "Epoch 00008: val_loss improved from 8.10321 to 8.02219, saving model to saved_models/weights.best.VGG16.hdf5\n",
      "Epoch 9/20\n",
      "6680/6680 [==============================] - 1s 208us/step - loss: 7.0523 - acc: 0.5334 - val_loss: 7.9486 - val_acc: 0.4287\n",
      "\n",
      "Epoch 00009: val_loss improved from 8.02219 to 7.94860, saving model to saved_models/weights.best.VGG16.hdf5\n",
      "Epoch 10/20\n",
      "6680/6680 [==============================] - 1s 202us/step - loss: 6.7526 - acc: 0.5469 - val_loss: 7.4531 - val_acc: 0.4491\n",
      "\n",
      "Epoch 00010: val_loss improved from 7.94860 to 7.45313, saving model to saved_models/weights.best.VGG16.hdf5\n",
      "Epoch 11/20\n",
      "6680/6680 [==============================] - 1s 202us/step - loss: 6.5555 - acc: 0.5689 - val_loss: 7.3677 - val_acc: 0.4635\n",
      "\n",
      "Epoch 00011: val_loss improved from 7.45313 to 7.36773, saving model to saved_models/weights.best.VGG16.hdf5\n",
      "Epoch 12/20\n",
      "6680/6680 [==============================] - 1s 203us/step - loss: 6.4945 - acc: 0.5810 - val_loss: 7.3532 - val_acc: 0.4743\n",
      "\n",
      "Epoch 00012: val_loss improved from 7.36773 to 7.35315, saving model to saved_models/weights.best.VGG16.hdf5\n",
      "Epoch 13/20\n",
      "6680/6680 [==============================] - 1s 204us/step - loss: 6.4635 - acc: 0.5867 - val_loss: 7.3679 - val_acc: 0.4754\n",
      "\n",
      "Epoch 00013: val_loss did not improve\n",
      "Epoch 14/20\n",
      "6680/6680 [==============================] - 1s 208us/step - loss: 6.4420 - acc: 0.5897 - val_loss: 7.3853 - val_acc: 0.4527\n",
      "\n",
      "Epoch 00014: val_loss did not improve\n",
      "Epoch 15/20\n",
      "6680/6680 [==============================] - 1s 213us/step - loss: 6.4122 - acc: 0.5895 - val_loss: 7.3770 - val_acc: 0.4575\n",
      "\n",
      "Epoch 00015: val_loss did not improve\n",
      "Epoch 16/20\n",
      "6680/6680 [==============================] - 1s 203us/step - loss: 6.3419 - acc: 0.5945 - val_loss: 7.2685 - val_acc: 0.4754\n",
      "\n",
      "Epoch 00016: val_loss improved from 7.35315 to 7.26849, saving model to saved_models/weights.best.VGG16.hdf5\n",
      "Epoch 17/20\n",
      "6680/6680 [==============================] - 1s 207us/step - loss: 6.1419 - acc: 0.6027 - val_loss: 7.1235 - val_acc: 0.4719\n",
      "\n",
      "Epoch 00017: val_loss improved from 7.26849 to 7.12351, saving model to saved_models/weights.best.VGG16.hdf5\n",
      "Epoch 18/20\n",
      "6680/6680 [==============================] - 1s 218us/step - loss: 6.0046 - acc: 0.6136 - val_loss: 7.0566 - val_acc: 0.4719\n",
      "\n",
      "Epoch 00018: val_loss improved from 7.12351 to 7.05658, saving model to saved_models/weights.best.VGG16.hdf5\n",
      "Epoch 19/20\n",
      "6680/6680 [==============================] - 1s 208us/step - loss: 5.9108 - acc: 0.6210 - val_loss: 7.0013 - val_acc: 0.4790\n",
      "\n",
      "Epoch 00019: val_loss improved from 7.05658 to 7.00127, saving model to saved_models/weights.best.VGG16.hdf5\n",
      "Epoch 20/20\n",
      "6680/6680 [==============================] - 1s 205us/step - loss: 5.8044 - acc: 0.6281 - val_loss: 6.9234 - val_acc: 0.4766\n",
      "\n",
      "Epoch 00020: val_loss improved from 7.00127 to 6.92339, saving model to saved_models/weights.best.VGG16.hdf5\n"
     ]
    },
    {
     "data": {
      "text/plain": [
       "<keras.callbacks.History at 0x7f6d493ab898>"
      ]
     },
     "execution_count": 31,
     "metadata": {},
     "output_type": "execute_result"
    }
   ],
   "source": [
    "checkpointer = ModelCheckpoint(filepath='saved_models/weights.best.VGG16.hdf5', \n",
    "                               verbose=1, save_best_only=True)\n",
    "\n",
    "VGG16_model.fit(train_VGG16, train_targets, \n",
    "          validation_data=(valid_VGG16, valid_targets),\n",
    "          epochs=20, batch_size=20, callbacks=[checkpointer], verbose=1)"
   ]
  },
  {
   "cell_type": "markdown",
   "metadata": {},
   "source": [
    "### Load the Model with the Best Validation Loss"
   ]
  },
  {
   "cell_type": "code",
   "execution_count": null,
   "metadata": {
    "collapsed": true
   },
   "outputs": [],
   "source": [
    "VGG16_model.load_weights('saved_models/weights.best.VGG16.hdf5')"
   ]
  },
  {
   "cell_type": "markdown",
   "metadata": {},
   "source": [
    "### Test the Model\n",
    "\n",
    "Now, we can use the CNN to test how well it identifies breed within our test dataset of dog images.  We print the test accuracy below."
   ]
  },
  {
   "cell_type": "code",
   "execution_count": 33,
   "metadata": {},
   "outputs": [
    {
     "name": "stdout",
     "output_type": "stream",
     "text": [
      "Test accuracy: 48.2057%\n"
     ]
    }
   ],
   "source": [
    "# get index of predicted dog breed for each image in test set\n",
    "VGG16_predictions = [np.argmax(VGG16_model.predict(np.expand_dims(feature, axis=0))) for feature in test_VGG16]\n",
    "\n",
    "# report test accuracy\n",
    "test_accuracy = 100*np.sum(np.array(VGG16_predictions)==np.argmax(test_targets, axis=1))/len(VGG16_predictions)\n",
    "print('Test accuracy: %.4f%%' % test_accuracy)"
   ]
  },
  {
   "cell_type": "markdown",
   "metadata": {},
   "source": [
    "### Predict Dog Breed with the Model"
   ]
  },
  {
   "cell_type": "code",
   "execution_count": 34,
   "metadata": {
    "collapsed": true
   },
   "outputs": [],
   "source": [
    "from extract_bottleneck_features import *\n",
    "\n",
    "def VGG16_predict_breed(img_path):\n",
    "    # extract bottleneck features\n",
    "    bottleneck_feature = extract_VGG16(path_to_tensor(img_path))\n",
    "    # obtain predicted vector\n",
    "    predicted_vector = VGG16_model.predict(bottleneck_feature)\n",
    "    # return dog breed that is predicted by the model\n",
    "    return dog_names[np.argmax(predicted_vector)]"
   ]
  },
  {
   "cell_type": "markdown",
   "metadata": {},
   "source": [
    "---\n",
    "<a id='step5'></a>\n",
    "## Step 5: Create a CNN to Classify Dog Breeds (using Transfer Learning)\n",
    "\n",
    "You will now use transfer learning to create a CNN that can identify dog breed from images.  Your CNN must attain at least 60% accuracy on the test set.\n",
    "\n",
    "In Step 4, we used transfer learning to create a CNN using VGG-16 bottleneck features.  In this section, you must use the bottleneck features from a different pre-trained model.  To make things easier for you, we have pre-computed the features for all of the networks that are currently available in Keras:\n",
    "- [VGG-19](https://s3-us-west-1.amazonaws.com/udacity-aind/dog-project/DogVGG19Data.npz) bottleneck features\n",
    "- [ResNet-50](https://s3-us-west-1.amazonaws.com/udacity-aind/dog-project/DogResnet50Data.npz) bottleneck features\n",
    "- [Inception](https://s3-us-west-1.amazonaws.com/udacity-aind/dog-project/DogInceptionV3Data.npz) bottleneck features\n",
    "- [Xception](https://s3-us-west-1.amazonaws.com/udacity-aind/dog-project/DogXceptionData.npz) bottleneck features\n",
    "\n",
    "The files are encoded as such:\n",
    "\n",
    "    Dog{network}Data.npz\n",
    "    \n",
    "where `{network}`, in the above filename, can be one of `VGG19`, `Resnet50`, `InceptionV3`, or `Xception`.  Pick one of the above architectures, download the corresponding bottleneck features, and store the downloaded file in the `bottleneck_features/` folder in the repository.\n",
    "\n",
    "### (IMPLEMENTATION) Obtain Bottleneck Features\n",
    "\n",
    "In the code block below, extract the bottleneck features corresponding to the train, test, and validation sets by running the following:\n",
    "\n",
    "    bottleneck_features = np.load('bottleneck_features/Dog{network}Data.npz')\n",
    "    train_{network} = bottleneck_features['train']\n",
    "    valid_{network} = bottleneck_features['valid']\n",
    "    test_{network} = bottleneck_features['test']"
   ]
  },
  {
   "cell_type": "code",
   "execution_count": 85,
   "metadata": {
    "collapsed": true
   },
   "outputs": [],
   "source": [
    "bottleneck_features = np.load('bottleneck_features/DogInceptionV3Data.npz')\n",
    "train_Inception = bottleneck_features['train']\n",
    "valid_Inception = bottleneck_features['valid']\n",
    "test_Inception = bottleneck_features['test']"
   ]
  },
  {
   "cell_type": "markdown",
   "metadata": {},
   "source": [
    "### (IMPLEMENTATION) Model Architecture\n",
    "\n",
    "Create a CNN to classify dog breed.  At the end of your code cell block, summarize the layers of your model by executing the line:\n",
    "    \n",
    "        <your model's name>.summary()\n",
    "   \n",
    "__Question 5:__ Outline the steps you took to get to your final CNN architecture and your reasoning at each step.  Describe why you think the architecture is suitable for the current problem.\n",
    "\n",
    "__Answer:__ \n",
    "\n"
   ]
  },
  {
   "cell_type": "code",
   "execution_count": 99,
   "metadata": {},
   "outputs": [
    {
     "name": "stdout",
     "output_type": "stream",
     "text": [
      "_________________________________________________________________\n",
      "Layer (type)                 Output Shape              Param #   \n",
      "=================================================================\n",
      "global_average_pooling2d_12  (None, 2048)              0         \n",
      "_________________________________________________________________\n",
      "dropout_31 (Dropout)         (None, 2048)              0         \n",
      "_________________________________________________________________\n",
      "dense_32 (Dense)             (None, 200)               409800    \n",
      "_________________________________________________________________\n",
      "dropout_32 (Dropout)         (None, 200)               0         \n",
      "_________________________________________________________________\n",
      "dense_33 (Dense)             (None, 100)               20100     \n",
      "_________________________________________________________________\n",
      "dropout_33 (Dropout)         (None, 100)               0         \n",
      "_________________________________________________________________\n",
      "dense_34 (Dense)             (None, 133)               13433     \n",
      "=================================================================\n",
      "Total params: 443,333\n",
      "Trainable params: 443,333\n",
      "Non-trainable params: 0\n",
      "_________________________________________________________________\n"
     ]
    }
   ],
   "source": [
    "# I picked this model architecture based on best practices from the lessons. Specifically, we lopped off at the\n",
    "# end of the convolutional layers. Because of that the first thing I do is reduce the dimensionality of the model\n",
    "# with a GlobalAveragePooling2D step (Gap step).\n",
    "# Then, between each of the fully connected layers I included a Dropout layer to ensure that no single node\n",
    "# had too much weight and caused the model to overfit. Dropout leaves that percentage of nodes out of the input to the\n",
    "# next layer in each epoch. \n",
    "# Then I have 3 fully connected dense layers that end in a softmax to get a prediction for each of the 133 breeds.\n",
    "\n",
    "# This model improved on the prior steps in the following ways....\n",
    "# * First, compared to my original attempt without transfer learning, this model applies transfer learning. Transfer\n",
    "#   learning is so much more effective because it utilizes the learnings of substantially more data. In our data set \n",
    "#   we only have a total of 21,584 total images - and only 8,351 are dog images (I only used dog images in my model).\n",
    "#   This means that the model needs to learn everything about images from that smaller dataset. This includes basic\n",
    "#   image information like boundaries, shapes, what constitutes an animal shape, a face, etc...\n",
    "#   Using a pretrained model on ImageNet gives you the ability to utilize that entire 1.2million image data set\n",
    "#   that categorizes images in to 1000 categories - include types of dogs. That model can take weeks to train\n",
    "#   and comes with understanding of what constitutes a dog. It likely understands \"paw\" \"snout\" \"dog ears\" etc...\n",
    "# * We can utilize that pre-work by cutting off the final fully connected layers, and replacing it with labels that\n",
    "#   identify which dog breed (which we did in both my model here and the second model). In short, we leverage\n",
    "#   substantially more data and a pre-trained model to get a better answer quickly in the second example (on VGG16) and\n",
    "#   this one (using InceptionV1). For more information on transfer learning see:\n",
    "#   http://cs231n.github.io/transfer-learning/ and the lectures. \n",
    "\n",
    "# Second, this model substantially improves on the earlier VGG16 model in a few key ways:\n",
    "# * This new model utilizes a three fully connected layers, instead of one. The lectures and various publications like\n",
    "#   https://arxiv.org/pdf/1409.1556.pdf show best practices of three fully connected layers. In a pre-trained model\n",
    "#   the Convolutional layers provide substantial information about what is in the image. The fully connected layers\n",
    "#   take that information and convert it into how those elements come together to be classified, in this case for which\n",
    "#   breed. Giving three fully connected layers provides more downstream layers to optimize this.\n",
    "# * I also included Dropout layers between each fully connected layer (and between the GlobalAveragePooling \"gap\" \n",
    "#   layer and the first flly connected layer). Utilizing Dropout layers is a best practice from the course, and \n",
    "#   reinforced in many publications and articles, for example: http://lamda.nju.edu.cn/weixs/project/CNNTricks/CNNTricks.html\n",
    "#   Dropouts help prevent overfitting by dropping that percentage of nodes from each layer\n",
    "# * Lastly, I tested a number of different number shapes for each layer and found that 200 followed by 100 had the\n",
    "#   best performance. We end with a 133 potential categories in the last layer because there are 133 breeds we are\n",
    "#   aiming to classify.\n",
    "\n",
    "Inception_model = Sequential()\n",
    "Inception_model.add(GlobalAveragePooling2D(input_shape=train_Inception.shape[1:]))\n",
    "Inception_model.add(Dropout(0.3))\n",
    "Inception_model.add(Dense(200, activation=\"relu\"))\n",
    "Inception_model.add(Dropout(0.3))\n",
    "Inception_model.add(Dense(100, activation=\"relu\"))\n",
    "Inception_model.add(Dropout(0.3))\n",
    "Inception_model.add(Dense(133, activation=\"softmax\"))\n",
    "Inception_model.summary()"
   ]
  },
  {
   "cell_type": "markdown",
   "metadata": {},
   "source": [
    "### (IMPLEMENTATION) Compile the Model"
   ]
  },
  {
   "cell_type": "code",
   "execution_count": 100,
   "metadata": {
    "collapsed": true
   },
   "outputs": [],
   "source": [
    "# I tested rmsprop and adam, and adam performed better by ~1%\n",
    "Inception_model.compile(loss='categorical_crossentropy', optimizer='adam', metrics=['accuracy'])"
   ]
  },
  {
   "cell_type": "markdown",
   "metadata": {},
   "source": [
    "### (IMPLEMENTATION) Train the Model\n",
    "\n",
    "Train your model in the code cell below.  Use model checkpointing to save the model that attains the best validation loss.  \n",
    "\n",
    "You are welcome to [augment the training data](https://blog.keras.io/building-powerful-image-classification-models-using-very-little-data.html), but this is not a requirement. "
   ]
  },
  {
   "cell_type": "code",
   "execution_count": 102,
   "metadata": {},
   "outputs": [
    {
     "name": "stdout",
     "output_type": "stream",
     "text": [
      "Train on 6680 samples, validate on 835 samples\n",
      "Epoch 1/20\n",
      "6680/6680 [==============================] - 5s 745us/step - loss: 0.7999 - acc: 0.7612 - val_loss: 0.5748 - val_acc: 0.8240\n",
      "\n",
      "Epoch 00001: val_loss improved from inf to 0.57482, saving model to saved_models/weights.best.Inception.hdf5\n",
      "Epoch 2/20\n",
      "6680/6680 [==============================] - 5s 721us/step - loss: 0.7509 - acc: 0.7699 - val_loss: 0.5924 - val_acc: 0.8263\n",
      "\n",
      "Epoch 00002: val_loss did not improve\n",
      "Epoch 3/20\n",
      "6680/6680 [==============================] - 5s 739us/step - loss: 0.7152 - acc: 0.7808 - val_loss: 0.5603 - val_acc: 0.8251\n",
      "\n",
      "Epoch 00003: val_loss improved from 0.57482 to 0.56033, saving model to saved_models/weights.best.Inception.hdf5\n",
      "Epoch 4/20\n",
      "6680/6680 [==============================] - 5s 705us/step - loss: 0.6569 - acc: 0.7897 - val_loss: 0.5648 - val_acc: 0.8180\n",
      "\n",
      "Epoch 00004: val_loss did not improve\n",
      "Epoch 5/20\n",
      "6680/6680 [==============================] - 5s 688us/step - loss: 0.6410 - acc: 0.7976 - val_loss: 0.5949 - val_acc: 0.8192\n",
      "\n",
      "Epoch 00005: val_loss did not improve\n",
      "Epoch 6/20\n",
      "6680/6680 [==============================] - 5s 730us/step - loss: 0.6194 - acc: 0.7981 - val_loss: 0.5516 - val_acc: 0.8407\n",
      "\n",
      "Epoch 00006: val_loss improved from 0.56033 to 0.55157, saving model to saved_models/weights.best.Inception.hdf5\n",
      "Epoch 7/20\n",
      "6680/6680 [==============================] - 5s 726us/step - loss: 0.5688 - acc: 0.8171 - val_loss: 0.5462 - val_acc: 0.8323\n",
      "\n",
      "Epoch 00007: val_loss improved from 0.55157 to 0.54623, saving model to saved_models/weights.best.Inception.hdf5\n",
      "Epoch 8/20\n",
      "6680/6680 [==============================] - 5s 776us/step - loss: 0.5639 - acc: 0.8196 - val_loss: 0.5772 - val_acc: 0.8251\n",
      "\n",
      "Epoch 00008: val_loss did not improve\n",
      "Epoch 9/20\n",
      "6680/6680 [==============================] - 5s 711us/step - loss: 0.5393 - acc: 0.8254 - val_loss: 0.5583 - val_acc: 0.8228\n",
      "\n",
      "Epoch 00009: val_loss did not improve\n",
      "Epoch 10/20\n",
      "6680/6680 [==============================] - 5s 718us/step - loss: 0.5473 - acc: 0.8229 - val_loss: 0.5958 - val_acc: 0.8192\n",
      "\n",
      "Epoch 00010: val_loss did not improve\n",
      "Epoch 11/20\n",
      "6680/6680 [==============================] - 5s 700us/step - loss: 0.5078 - acc: 0.8326 - val_loss: 0.5826 - val_acc: 0.8371\n",
      "\n",
      "Epoch 00011: val_loss did not improve\n",
      "Epoch 12/20\n",
      "6680/6680 [==============================] - 5s 744us/step - loss: 0.5013 - acc: 0.8406 - val_loss: 0.5683 - val_acc: 0.8371\n",
      "\n",
      "Epoch 00012: val_loss did not improve\n",
      "Epoch 13/20\n",
      "6680/6680 [==============================] - 5s 705us/step - loss: 0.4712 - acc: 0.8507 - val_loss: 0.5647 - val_acc: 0.8407\n",
      "\n",
      "Epoch 00013: val_loss did not improve\n",
      "Epoch 14/20\n",
      "6680/6680 [==============================] - 5s 706us/step - loss: 0.4622 - acc: 0.8484 - val_loss: 0.5882 - val_acc: 0.8287\n",
      "\n",
      "Epoch 00014: val_loss did not improve\n",
      "Epoch 15/20\n",
      "6680/6680 [==============================] - 5s 719us/step - loss: 0.4762 - acc: 0.8470 - val_loss: 0.5835 - val_acc: 0.8443\n",
      "\n",
      "Epoch 00015: val_loss did not improve\n",
      "Epoch 16/20\n",
      "6680/6680 [==============================] - 5s 732us/step - loss: 0.4320 - acc: 0.8594 - val_loss: 0.5635 - val_acc: 0.8383\n",
      "\n",
      "Epoch 00016: val_loss did not improve\n",
      "Epoch 17/20\n",
      "6680/6680 [==============================] - 5s 680us/step - loss: 0.4356 - acc: 0.8582 - val_loss: 0.5791 - val_acc: 0.8443\n",
      "\n",
      "Epoch 00017: val_loss did not improve\n",
      "Epoch 18/20\n",
      "6680/6680 [==============================] - 4s 646us/step - loss: 0.4381 - acc: 0.8578 - val_loss: 0.5621 - val_acc: 0.8443\n",
      "\n",
      "Epoch 00018: val_loss did not improve\n",
      "Epoch 19/20\n",
      "6680/6680 [==============================] - 4s 559us/step - loss: 0.4153 - acc: 0.8588 - val_loss: 0.6065 - val_acc: 0.8527\n",
      "\n",
      "Epoch 00019: val_loss did not improve\n",
      "Epoch 20/20\n",
      "6680/6680 [==============================] - 4s 555us/step - loss: 0.4173 - acc: 0.8623 - val_loss: 0.5504 - val_acc: 0.8563\n",
      "\n",
      "Epoch 00020: val_loss did not improve\n"
     ]
    },
    {
     "data": {
      "text/plain": [
       "\"\\n# With image augmentation, over 5 epochs, I get an accuracy of 80.2%. This wasn't a better performance and it comes\\n# at the price of taking 240 seconds per epoch now. Given this, I actually decided not to include image augmentation\\n# in my final result. Perhaps the model in earlier layers does some similar classifications - e.g position and size\\ndatagen_trainInception = ImageDataGenerator(width_shift_range=0.1, height_shift_range=0.1,horizontal_flip=True)\\ndatagen_trainInception.fit(train_Inception)\\n\\ncheckpointer = ModelCheckpoint(filepath='saved_models/weights.best.Inception.hdf5', \\n                               verbose=1, save_best_only=True)\\nInception_model.fit_generator(datagen_trainInception.flow(train_Inception, train_targets, batch_size=batch_size),\\n                    steps_per_epoch=train_Inception.shape[0] // batch_size,\\n                    epochs=epochs, verbose=2, callbacks=[checkpointer],\\n                    validation_data=(valid_Inception, valid_targets),\\n                    validation_steps=train_Inception.shape[0] // batch_size)\\n\""
      ]
     },
     "execution_count": 102,
     "metadata": {},
     "output_type": "execute_result"
    }
   ],
   "source": [
    "batch_size = 32\n",
    "# I originally tried this with up to 100 epochs before seeing that val_loss stopped improving around the 8th epoch.\n",
    "# 20 was more than enough\n",
    "epochs = 20\n",
    "\n",
    "# Please see this earlier classification without image augmentation. This performed fairly well. After 20 epochs\n",
    "# I got an accuracy of 80.7%. This was encouraging and fast - each epoch takes only ~2-5 seconds. It performs better\n",
    "# even than with augmentation in similar time periods. And, the model was actually not improving after about 5 epochs.\n",
    "\n",
    "checkpointer = ModelCheckpoint(filepath='saved_models/weights.best.Inception.hdf5', \n",
    "                               verbose=1, save_best_only=True)\n",
    "\n",
    "Inception_model.fit(train_Inception, train_targets, \n",
    "          validation_data=(valid_Inception, valid_targets),\n",
    "          epochs=epochs, batch_size=batch_size, callbacks=[checkpointer], verbose=1)\n",
    "\n",
    "\"\"\"\n",
    "# With image augmentation, over 5 epochs, I get an accuracy of 80.2%. This wasn't a better performance and it comes\n",
    "# at the price of taking 240 seconds per epoch now. Given this, I actually decided not to include image augmentation\n",
    "# in my final result. Perhaps the model in earlier layers does some similar classifications - e.g position and size\n",
    "datagen_trainInception = ImageDataGenerator(width_shift_range=0.1, height_shift_range=0.1,horizontal_flip=True)\n",
    "datagen_trainInception.fit(train_Inception)\n",
    "\n",
    "checkpointer = ModelCheckpoint(filepath='saved_models/weights.best.Inception.hdf5', \n",
    "                               verbose=1, save_best_only=True)\n",
    "Inception_model.fit_generator(datagen_trainInception.flow(train_Inception, train_targets, batch_size=batch_size),\n",
    "                    steps_per_epoch=train_Inception.shape[0] // batch_size,\n",
    "                    epochs=epochs, verbose=2, callbacks=[checkpointer],\n",
    "                    validation_data=(valid_Inception, valid_targets),\n",
    "                    validation_steps=train_Inception.shape[0] // batch_size)\n",
    "\"\"\""
   ]
  },
  {
   "cell_type": "markdown",
   "metadata": {},
   "source": [
    "### (IMPLEMENTATION) Load the Model with the Best Validation Loss"
   ]
  },
  {
   "cell_type": "code",
   "execution_count": 103,
   "metadata": {
    "collapsed": true
   },
   "outputs": [],
   "source": [
    "Inception_model.load_weights('saved_models/weights.best.Inception.hdf5')"
   ]
  },
  {
   "cell_type": "markdown",
   "metadata": {},
   "source": [
    "### (IMPLEMENTATION) Test the Model\n",
    "\n",
    "Try out your model on the test dataset of dog images. Ensure that your test accuracy is greater than 60%."
   ]
  },
  {
   "cell_type": "code",
   "execution_count": 104,
   "metadata": {},
   "outputs": [
    {
     "name": "stdout",
     "output_type": "stream",
     "text": [
      "Test accuracy: 81.4593%\n"
     ]
    }
   ],
   "source": [
    "# get index of predicted dog breed for each image in test set\n",
    "Inception_predictions = [np.argmax(Inception_model.predict(np.expand_dims(feature, axis=0))) for feature in test_Inception]\n",
    "\n",
    "# report test accuracy\n",
    "test_accuracy = 100*np.sum(np.array(Inception_predictions)==np.argmax(test_targets, axis=1))/len(Inception_predictions)\n",
    "print('Test accuracy: %.4f%%' % test_accuracy)"
   ]
  },
  {
   "cell_type": "markdown",
   "metadata": {},
   "source": [
    "### (IMPLEMENTATION) Predict Dog Breed with the Model\n",
    "\n",
    "Write a function that takes an image path as input and returns the dog breed (`Affenpinscher`, `Afghan_hound`, etc) that is predicted by your model.  \n",
    "\n",
    "Similar to the analogous function in Step 5, your function should have three steps:\n",
    "1. Extract the bottleneck features corresponding to the chosen CNN model.\n",
    "2. Supply the bottleneck features as input to the model to return the predicted vector.  Note that the argmax of this prediction vector gives the index of the predicted dog breed.\n",
    "3. Use the `dog_names` array defined in Step 0 of this notebook to return the corresponding breed.\n",
    "\n",
    "The functions to extract the bottleneck features can be found in `extract_bottleneck_features.py`, and they have been imported in an earlier code cell.  To obtain the bottleneck features corresponding to your chosen CNN architecture, you need to use the function\n",
    "\n",
    "    extract_{network}\n",
    "    \n",
    "where `{network}`, in the above filename, should be one of `VGG19`, `Resnet50`, `InceptionV3`, or `Xception`."
   ]
  },
  {
   "cell_type": "code",
   "execution_count": 105,
   "metadata": {
    "collapsed": true
   },
   "outputs": [],
   "source": [
    "### Write a function that takes a path to an image as input\n",
    "### and returns the dog breed that is predicted by the model.\n",
    "\n",
    "## This was pretty straightforward, I just used the same format as the example above with VGG16\n",
    "\n",
    "def my_predict_breed(img_path):\n",
    "    # extract bottleneck features\n",
    "    bottleneck_feature = extract_InceptionV3(path_to_tensor(img_path))\n",
    "    # obtain predicted vector\n",
    "    predicted_vector = Inception_model.predict(bottleneck_feature)\n",
    "    # return dog breed that is predicted by the model\n",
    "    return dog_names[np.argmax(predicted_vector)]"
   ]
  },
  {
   "cell_type": "markdown",
   "metadata": {},
   "source": [
    "---\n",
    "<a id='step6'></a>\n",
    "## Step 6: Write your Algorithm\n",
    "\n",
    "Write an algorithm that accepts a file path to an image and first determines whether the image contains a human, dog, or neither.  Then,\n",
    "- if a __dog__ is detected in the image, return the predicted breed.\n",
    "- if a __human__ is detected in the image, return the resembling dog breed.\n",
    "- if __neither__ is detected in the image, provide output that indicates an error.\n",
    "\n",
    "You are welcome to write your own functions for detecting humans and dogs in images, but feel free to use the `face_detector` and `dog_detector` functions developed above.  You are __required__ to use your CNN from Step 5 to predict dog breed.  \n",
    "\n",
    "Some sample output for our algorithm is provided below, but feel free to design your own user experience!\n",
    "\n",
    "![Sample Human Output](images/sample_human_output.png)\n",
    "\n",
    "\n",
    "### (IMPLEMENTATION) Write your Algorithm"
   ]
  },
  {
   "cell_type": "code",
   "execution_count": 106,
   "metadata": {
    "collapsed": true
   },
   "outputs": [],
   "source": [
    "### TODO: Write your algorithm.\n",
    "### Feel free to use as many code cells as needed.\n",
    "\n",
    "def return_breed(img_path):\n",
    "    breed = my_predict_breed(img_path)\n",
    "    if (dog_detector(img_path)):\n",
    "        print (\"This dog is (predicted to be) a ... \", breed)\n",
    "    elif (face_detector(img_path)):\n",
    "        print (\"This person looks like a ... \", breed)\n",
    "    else:\n",
    "        print (\"What is this thing?!? Error\")"
   ]
  },
  {
   "cell_type": "markdown",
   "metadata": {},
   "source": [
    "---\n",
    "<a id='step7'></a>\n",
    "## Step 7: Test Your Algorithm\n",
    "\n",
    "In this section, you will take your new algorithm for a spin!  What kind of dog does the algorithm think that __you__ look like?  If you have a dog, does it predict your dog's breed accurately?  If you have a cat, does it mistakenly think that your cat is a dog?\n",
    "\n",
    "### (IMPLEMENTATION) Test Your Algorithm on Sample Images!\n",
    "\n",
    "Test your algorithm at least six images on your computer.  Feel free to use any images you like.  Use at least two human and two dog images.  \n",
    "\n",
    "__Question 6:__ Is the output better than you expected :) ?  Or worse :( ?  Provide at least three possible points of improvement for your algorithm.\n",
    "\n",
    "__Answer:__ "
   ]
  },
  {
   "cell_type": "code",
   "execution_count": 107,
   "metadata": {},
   "outputs": [
    {
     "name": "stdout",
     "output_type": "stream",
     "text": [
      "This dog is (predicted to be) a ...  American_water_spaniel\n",
      "This dog is (predicted to be) a ...  Welsh_springer_spaniel\n",
      "This dog is (predicted to be) a ...  Labrador_retriever\n",
      "This dog is (predicted to be) a ...  Labrador_retriever\n",
      "This dog is (predicted to be) a ...  Labrador_retriever\n",
      "This person looks like a ...  Dachshund\n",
      "This person looks like a ...  Icelandic_sheepdog\n",
      "This person looks like a ...  Poodle\n"
     ]
    }
   ],
   "source": [
    "## Execute your algorithm from Step 6 on at least 6 images on your computer.\n",
    "\n",
    "# The output is much better than I expected. The accuracy was 81.4% in the model and got 5/5 for images of dogs. The\n",
    "# model would have predicted 4 / 5. In an earlier iteration I got 4/5, but apparently recent tweaks + some luck got me\n",
    "# to this. Even when I got 4 / 5 I would say that there is something about seeing it in practice that is amazing!\n",
    "\n",
    "# This algorithm could be improved in the following ways:\n",
    "# 1) I was not able to get the augmenting images to really give a boost. I suspect this was just because I did not\n",
    "#    spend as much time training as could improve the model. Certainly including augmented images with more epochs\n",
    "#    could help.\n",
    "# 2) The model seems to have trouble, when looking at humans, distinguishing between clothes and the face. If I wanted\n",
    "#    to make this model do a better job of classifying what breed the person looks like I would want to add a step that\n",
    "#    that limits the model to look just at the face. This would look like taking the method described above in Step 1\n",
    "#    and trimming the input image before passing it to the return_breed function.\n",
    "# 3) I believe this algorithm, because of lack of augmenting of images, may have trouble with the distance from the\n",
    "#    camera the dog is. An earlier version's miss in classifying a labrador retriever as a chesapeak retriever\n",
    "#    I believed was exacerbated by the fact that the picture was a close-up. Apparently this version did not\n",
    "#    make same mistake, but I think adding some transformation to understand how far the camera is in relation to dog\n",
    "#    could help.\n",
    "# 4) Lastly, I am not sure if the model works well with shadows. It seems to have confused shadows for fur color in at\n",
    "#    least one instance (with Nikki's dog guess). I would want to explore this more and make sure training data had\n",
    "#    enough varying weather + brightness conditions for pictures. \n",
    "\n",
    "# Got this one right!\n",
    "return_breed('images/American_water_spaniel_00648.jpg')\n",
    "\n",
    "# And this one right!\n",
    "return_breed('images/Welsh_springer_spaniel_08203.jpg')\n",
    "\n",
    "# And this one!\n",
    "return_breed('images/Labrador_retriever_06449.jpg')\n",
    "\n",
    "# Got this wrong in my original version it thought this was a Chesapeake Bay Retriever, but after\n",
    "# tweaking the algorithm some more, it got it right\n",
    "return_breed('images/Labrador_retriever_06455.jpg')\n",
    "\n",
    "# Got this right!\n",
    "return_breed('images/Labrador_retriever_06457.jpg')\n",
    "\n",
    "# Thought I am a Dachshund. I think the issue here is that I was wearing a tux and bowtie\n",
    "# I believe the algorithm got confused with the stark barrier between the white and the black and thought I was a dog\n",
    "# that had dark and light colors. \n",
    "return_breed('images/Jon.png')\n",
    "\n",
    "# Thought Nikki was an Iceland Sheepdoc, I think this may be because the way the shadows of the image make\n",
    "# her face seem similar. \n",
    "return_breed('images/Nikki.JPG')\n",
    "\n",
    "# Thought Joel was a Poodle - I think this is because of Joel's facial hair. Poodles often have hair in front and\n",
    "# a dark snout, and given the angle the algorithm may have thought Joel's facial hair was that\n",
    "return_breed('images/Joel.png')"
   ]
  },
  {
   "cell_type": "code",
   "execution_count": null,
   "metadata": {
    "collapsed": true
   },
   "outputs": [],
   "source": []
  }
 ],
 "metadata": {
  "anaconda-cloud": {},
  "kernelspec": {
   "display_name": "Python 2",
   "language": "python",
   "name": "python2"
  },
  "language_info": {
   "codemirror_mode": {
    "name": "ipython",
    "version": 2
   },
   "file_extension": ".py",
   "mimetype": "text/x-python",
   "name": "python",
   "nbconvert_exporter": "python",
   "pygments_lexer": "ipython2",
   "version": "2.7.13"
  }
 },
 "nbformat": 4,
 "nbformat_minor": 1
}
